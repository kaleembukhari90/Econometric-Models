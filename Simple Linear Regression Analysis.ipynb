{
 "cells": [
  {
   "cell_type": "markdown",
   "metadata": {},
   "source": [
    "#  Simple Linear Regression Model: Sales ~ Advertising\n",
    "As part of an assignment for an Econometrics course on Coursera, here is a simple regression model that is based on a dataset that contains twenty weekly observations on sales and advertising of a department store.\n",
    "\n",
    "The dependent variable or the Y variable is sales, while the independent variable or the X variable is the advertising spend."
   ]
  },
  {
   "cell_type": "code",
   "execution_count": 151,
   "metadata": {},
   "outputs": [],
   "source": [
    "#importing all the required libraries\n",
    "import numpy as np\n",
    "import pandas as pd\n",
    "import matplotlib.pyplot as plt\n",
    "from scipy import stats\n",
    "import statsmodels.api as sm"
   ]
  },
  {
   "cell_type": "code",
   "execution_count": 152,
   "metadata": {},
   "outputs": [],
   "source": [
    "#loading the data in a pandas dataframe\n",
    "file_name = \"/Users/kaleembukhari/Documents/DataAnalytics/Coursera_Econometrics/SimpleRegression_dataset1.xls\"\n",
    "dataset = pd.read_excel(file_name)"
   ]
  },
  {
   "cell_type": "code",
   "execution_count": 153,
   "metadata": {},
   "outputs": [
    {
     "data": {
      "text/html": [
       "<div>\n",
       "<style>\n",
       "    .dataframe thead tr:only-child th {\n",
       "        text-align: right;\n",
       "    }\n",
       "\n",
       "    .dataframe thead th {\n",
       "        text-align: left;\n",
       "    }\n",
       "\n",
       "    .dataframe tbody tr th {\n",
       "        vertical-align: top;\n",
       "    }\n",
       "</style>\n",
       "<table border=\"1\" class=\"dataframe\">\n",
       "  <thead>\n",
       "    <tr style=\"text-align: right;\">\n",
       "      <th></th>\n",
       "      <th>Observation</th>\n",
       "      <th>Advertising</th>\n",
       "      <th>Sales</th>\n",
       "    </tr>\n",
       "  </thead>\n",
       "  <tbody>\n",
       "    <tr>\n",
       "      <th>0</th>\n",
       "      <td>1</td>\n",
       "      <td>12</td>\n",
       "      <td>24</td>\n",
       "    </tr>\n",
       "    <tr>\n",
       "      <th>1</th>\n",
       "      <td>2</td>\n",
       "      <td>12</td>\n",
       "      <td>27</td>\n",
       "    </tr>\n",
       "    <tr>\n",
       "      <th>2</th>\n",
       "      <td>3</td>\n",
       "      <td>9</td>\n",
       "      <td>25</td>\n",
       "    </tr>\n",
       "    <tr>\n",
       "      <th>3</th>\n",
       "      <td>4</td>\n",
       "      <td>11</td>\n",
       "      <td>27</td>\n",
       "    </tr>\n",
       "    <tr>\n",
       "      <th>4</th>\n",
       "      <td>5</td>\n",
       "      <td>6</td>\n",
       "      <td>23</td>\n",
       "    </tr>\n",
       "  </tbody>\n",
       "</table>\n",
       "</div>"
      ],
      "text/plain": [
       "   Observation  Advertising  Sales\n",
       "0            1           12     24\n",
       "1            2           12     27\n",
       "2            3            9     25\n",
       "3            4           11     27\n",
       "4            5            6     23"
      ]
     },
     "execution_count": 153,
     "metadata": {},
     "output_type": "execute_result"
    }
   ],
   "source": [
    "#viewing the top 5 rows of the dataset\n",
    "dataset.head()"
   ]
  },
  {
   "cell_type": "markdown",
   "metadata": {},
   "source": [
    "**(a) Make the scatter diagram with sales on the vertical axis and advertising on the horizontal axis. What do you expect to find if you would fit a regression line to these data?**"
   ]
  },
  {
   "cell_type": "code",
   "execution_count": 154,
   "metadata": {},
   "outputs": [
    {
     "data": {
      "image/png": "[encoded data removed]",
      "text/plain": [
       "<matplotlib.figure.Figure at 0x1199e3fd0>"
      ]
     },
     "metadata": {},
     "output_type": "display_data"
    }
   ],
   "source": [
    "#let's create the arrays for both X and Y variables\n",
    "x = np.array(dataset['Advertising'])\n",
    "y = np.array(dataset['Sales'])\n",
    "\n",
    "#to build a scatter plot with the fitted regression line, we need a slope and an intercept\n",
    "slope, intercept = np.polyfit(x,y,1)\n",
    "y_hat = slope * x + intercept\n",
    "\n",
    "#let's make a scatterplot along with the regression line using matplotlib\n",
    "fig, ax = plt.subplots()\n",
    "ax.scatter(x,y)\n",
    "ax.plot(x,y_hat)\n",
    "plt.title(\"Relationship between Advertising and Sales\")\n",
    "plt.ylabel(\"Sales\")\n",
    "plt.xlabel(\"Advertising\")\n",
    "plt.show()"
   ]
  },
  {
   "cell_type": "markdown",
   "metadata": {},
   "source": [
    "The visualization above shows a negative relationship between advertising and sales. This means as the advertising spend increases, sales decrease."
   ]
  },
  {
   "cell_type": "markdown",
   "metadata": {},
   "source": [
    "**(b) Estimate the coefficients a and b in the simple regression model with sales as dependent variable and advertising as explanatory factor. \n",
    "Also compute the standard error and t-value of b. Is b significantly different from 0?**"
   ]
  },
  {
   "cell_type": "markdown",
   "metadata": {},
   "source": [
    "Here, I use manual computations to find the value for a and b, intercept and slope respectively.\n",
    "\n",
    "$$ b = \\frac{\\sum_{i=1}^n (x_i - \\bar{x})(y_i - \\bar{y})}{\\sum_{i=1}^n (x_i - \\bar{x})^2}$$\n",
    "\n",
    "$$ a = \\bar{y} - b\\bar{x} $$\n",
    "\n",
    "Where $\\bar{x}$ is the mean x value, and $\\bar{y}$ is the mean y value."
   ]
  },
  {
   "cell_type": "code",
   "execution_count": 155,
   "metadata": {},
   "outputs": [],
   "source": [
    "#let's do the computation now\n",
    "def slope_intercept(x,y):\n",
    "    x_bar = np.mean(x)\n",
    "    y_bar = np.mean(y)\n",
    "    numerator = np.sum((x - x_bar)*(y - y_bar))\n",
    "    denominator = np.sum((x - x_bar)**2)\n",
    "    b = numerator / denominator\n",
    "    a = y_bar - (b * x_bar)\n",
    "    return a,b"
   ]
  },
  {
   "cell_type": "code",
   "execution_count": 156,
   "metadata": {},
   "outputs": [
    {
     "name": "stdout",
     "output_type": "stream",
     "text": [
      "Value for intercept or a =  29.6268933539\n",
      "Value for slope or b =  -0.32457496136\n"
     ]
    }
   ],
   "source": [
    "a = slope_intercept(x,y)[0]\n",
    "b = slope_intercept(x,y)[1]\n",
    "print (\"Value for intercept or a = \",a)\n",
    "print (\"Value for slope or b = \", b)"
   ]
  },
  {
   "cell_type": "markdown",
   "metadata": {},
   "source": [
    "The regression equation is:\n",
    "\n",
    "$$Sales = 29.62 - 0.324*Advertising$$\n",
    "\n",
    "The equation for residuals is:\n",
    "\n",
    "$$Residuals = y_i - a - bx_i$$"
   ]
  },
  {
   "cell_type": "code",
   "execution_count": 157,
   "metadata": {},
   "outputs": [],
   "source": [
    "#let's get the predicted y values based on the slope and the intercept\n",
    "def predicted(slope,x,intercept):\n",
    "    y_pred = (a) + (b*x)\n",
    "    return y_pred\n",
    "\n",
    "y_predicted = predicted(b,x,a)"
   ]
  },
  {
   "cell_type": "code",
   "execution_count": 158,
   "metadata": {},
   "outputs": [],
   "source": [
    "#To get the residuals, we need the following calculations\n",
    "def residuals(b,a,x,y):\n",
    "    bx = b * x\n",
    "    residuals = y - a - bx\n",
    "    return residuals\n",
    "\n",
    "residual_values = residuals(b,a,x,y)"
   ]
  },
  {
   "cell_type": "code",
   "execution_count": 159,
   "metadata": {},
   "outputs": [
    {
     "data": {
      "image/png": "[encoded data removed]",
      "text/plain": [
       "<matplotlib.figure.Figure at 0x119b85a90>"
      ]
     },
     "metadata": {},
     "output_type": "display_data"
    }
   ],
   "source": [
    "def plot_residuals(res,predicted):\n",
    "    fig, ax = plt.subplots()\n",
    "    ax.scatter(y_predicted, res)\n",
    "    ax.hlines(y=0, xmin=np.min(y_predicted), xmax=np.max(y_predicted))\n",
    "    plt.title(\"Residual values plotted against x values\")\n",
    "    plt.ylabel(\"Residuals\")\n",
    "    plt.xlabel(\"Predicted Values\")\n",
    "    return plt.show()\n",
    "\n",
    "plot_residuals(residual_values,y_predicted)"
   ]
  },
  {
   "cell_type": "markdown",
   "metadata": {},
   "source": [
    "The graphs above plots the residuals against the predicted values. Based on the graphs, we can see that the following Gauss Markov assumptions are violated.\n",
    "\n",
    "1. Errors are random, such that:\n",
    "\n",
    "$$ E(\\epsilon_i) = 0$$\n",
    "\n",
    "2. The errors are Homoskedastic, such that variance is the same regardless of the x values:\n",
    "\n",
    "$$ E(\\epsilon_i^2) = \\sigma^2$$\n",
    "\n",
    "3. The errors follow a normal distribution with mean 0 and standard deviation 1, such that :\n",
    "\n",
    "$$ \\epsilon \\sim NID(\\mu,\\sigma) $$"
   ]
  },
  {
   "cell_type": "markdown",
   "metadata": {},
   "source": [
    "**In order to find the standard error, t-value for slope, and statistical significance let's use the OLS linear regression model from the statsmodel library.**\n",
    "\n",
    "Standard error is given as:\n",
    "$$ SE = \\frac{\\sigma}{\\sqrt n}$$\n",
    "\n",
    "$$ \\sigma = standard\\space deviation$$\n",
    "$$ n = sample \\space size $$"
   ]
  },
  {
   "cell_type": "code",
   "execution_count": 160,
   "metadata": {},
   "outputs": [
    {
     "name": "stdout",
     "output_type": "stream",
     "text": [
      "Value for R-Squared = 0.0270393295325\n",
      "Standard Error for slope = 0.458910975803\n",
      "p Value for slope = 0.488454014209\n",
      "t Value for slope = -0.707272169275\n"
     ]
    }
   ],
   "source": [
    "#Using the library for OLS model\n",
    "x1 = sm.add_constant(x)\n",
    "reg_model = sm.OLS(y,x1).fit()\n",
    "print(\"Value for R-Squared =\",reg_model.rsquared)\n",
    "print(\"Standard Error for slope =\", reg_model.bse[1])\n",
    "print(\"p Value for slope =\", reg_model.pvalues[1])\n",
    "print(\"t Value for slope =\", reg_model.tvalues[1])"
   ]
  },
  {
   "cell_type": "markdown",
   "metadata": {},
   "source": [
    "A value of R-squared as low as 0.027 means that advertising doesn't explain the variability in sales. It only explains 2.7% of the variability in sales, and is not a good predictor.\n",
    "\n",
    "Moreover, since the value p-value is > 0.05, b is not significantly different than 0. This means that advertising is an insignificant variable in explaining the variability in sales. Any variability that is shows may be due to chance."
   ]
  },
  {
   "cell_type": "markdown",
   "metadata": {},
   "source": [
    "**(c) Compute the residuals and draw a histogram of these residuals. What conclusion do you draw from this histogram?**"
   ]
  },
  {
   "cell_type": "code",
   "execution_count": 171,
   "metadata": {},
   "outputs": [
    {
     "data": {
      "image/png": "[encoded data removed]",
      "text/plain": [
       "<matplotlib.figure.Figure at 0x1c1e229400>"
      ]
     },
     "metadata": {},
     "output_type": "display_data"
    }
   ],
   "source": [
    "#plotting a histogram for the residuals\n",
    "\n",
    "fig, ax = plt.subplots()\n",
    "ax.hist(residual_values, bins=20, ec='black')\n",
    "plt.show()"
   ]
  },
  {
   "cell_type": "markdown",
   "metadata": {},
   "source": [
    "Almost all the residual values have lie between -5 and +5. However, there is one outlier that makes the distrbituion right skewed. This residual looks like a result of an outlier is sales value of 50."
   ]
  }
 ],
 "metadata": {
  "kernelspec": {
   "display_name": "Python 3",
   "language": "python",
   "name": "python3"
  },
  "language_info": {
   "codemirror_mode": {
    "name": "ipython",
    "version": 3
   },
   "file_extension": ".py",
   "mimetype": "text/x-python",
   "name": "python",
   "nbconvert_exporter": "python",
   "pygments_lexer": "ipython3",
   "version": "3.6.3"
  }
 },
 "nbformat": 4,
 "nbformat_minor": 2
}
